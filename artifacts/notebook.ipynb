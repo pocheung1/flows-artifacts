{
 "cells": [
  {
   "cell_type": "code",
   "execution_count": 3,
   "metadata": {},
   "outputs": [
    {
     "name": "stdout",
     "output_type": "stream",
     "text": [
      "{'candidates': [{'message': {'role': 'assistant', 'content': 'The best day of the week is subjective and can vary depending on individual preferences and circumstances. Some people may prefer weekends (Saturday and Sunday) as they offer a break from work or school and allow for relaxation or leisure activities. Others may enjoy Fridays as they mark the end of the workweek and the beginning of the weekend. Ultimately, the best day of the week is a personal preference.'}, 'metadata': {'finish_reason': 'stop'}}], 'metadata': {'input_tokens': 16, 'output_tokens': 78, 'total_tokens': 94, 'model': 'gpt-3.5-turbo-0613', 'route_type': 'llm/v1/chat'}}\n"
     ]
    }
   ],
   "source": [
    "from mlflow.gateway import query, set_gateway_uri\n",
    "\n",
    "set_gateway_uri(gateway_uri=\"http://127.0.0.1:7000\")\n",
    "\n",
    "response = query(\n",
    "    \"chat\",\n",
    "    {\"messages\": [{\"role\": \"user\", \"content\": \"What is the best day of the week?\"}]},\n",
    ")\n",
    "\n",
    "print(response)"
   ]
  },
  {
   "cell_type": "code",
   "execution_count": null,
   "metadata": {},
   "outputs": [],
   "source": []
  }
 ],
 "metadata": {
  "kernelspec": {
   "display_name": "mlflow-2.7",
   "language": "python",
   "name": "python3"
  },
  "language_info": {
   "codemirror_mode": {
    "name": "ipython",
    "version": 3
   },
   "file_extension": ".py",
   "mimetype": "text/x-python",
   "name": "python",
   "nbconvert_exporter": "python",
   "pygments_lexer": "ipython3",
   "version": "3.10.12"
  },
  "orig_nbformat": 4
 },
 "nbformat": 4,
 "nbformat_minor": 2
}
